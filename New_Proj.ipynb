{
 "cells": [
  {
   "cell_type": "code",
   "execution_count": null,
   "id": "3c1a08b6-6e3e-425f-a146-1c8bd366a449",
   "metadata": {},
   "outputs": [],
   "source": []
  }
 ],
 "metadata": {
  "kernelspec": {
   "display_name": "",
   "name": ""
  },
  "language_info": {
   "name": ""
  }
 },
 "nbformat": 4,
 "nbformat_minor": 5
}
